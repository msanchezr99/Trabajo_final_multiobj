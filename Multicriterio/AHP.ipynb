{
 "cells": [
  {
   "attachments": {},
   "cell_type": "markdown",
   "metadata": {},
   "source": [
    "# Multicriterio\n",
    "\n",
    "Implementación de AHP para base de datos con alternativas y criterios tanto numéricos como categóricos."
   ]
  },
  {
   "cell_type": "code",
   "execution_count": 1,
   "metadata": {},
   "outputs": [],
   "source": [
    "import numpy as np\n",
    "import pandas as pd\n",
    "\n",
    "xls=pd.ExcelFile(r\"C:\\Users\\marti\\OneDrive\\Documentos\\personal\\Universidad\\Septimo_semestre\\Opti_multiobjective\\Multicriterio\\imdbmoviesdata.xlsx\")\n",
    "datos=pd.read_excel(xls,\"tmdb_movies_data\")\n",
    "tabla_AHP=pd.read_excel(xls,\"AHP\")\n",
    "tabla_AHP_gen=pd.read_excel(xls,\"AHP_genero\")\n",
    "#tabla_AHP_time=pd.read_excel(xls,\"AHP_duracion\")\n",
    "\n",
    "\n",
    "xls2=pd.ExcelFile(r\"C:\\Users\\marti\\OneDrive\\Documentos\\personal\\Universidad\\Septimo_semestre\\Opti_multiobjective\\Multicriterio\\Taller AHP.xlsx\")\n",
    "datos2=pd.read_excel(xls2,\"Datos\")\n",
    "t_AHP=pd.read_excel(xls2,\"AHP\")\n",
    "AHP_tipo=pd.read_excel(xls2,\"AHP_tipo\")\n",
    "#[65,90,120,180,340]\n"
   ]
  },
  {
   "cell_type": "code",
   "execution_count": 2,
   "metadata": {},
   "outputs": [],
   "source": [
    "def prepos_data(datos:pd.DataFrame,vect_max_min):\n",
    "    \"\"\"Recibe:\n",
    "    datos: base de datos\n",
    "    vect_max_min: vector con tantas entradas como variables numéricas y en orden de aparición en la base de datos.\n",
    "    1 si es de maximización, 0 si es de minimización.\n",
    "    Retorna:\n",
    "    Base de datos normalizada tomando en cuenta objetivo (min o max)\"\"\"\n",
    "    datos_num=datos.select_dtypes(include=\"number\")\n",
    "    #print(datos_num.head())\n",
    "    if len(datos_num.columns)!=len(vect_max_min):\n",
    "       raise Exception(f\"Dimensiones no coincidentes datos numéricos con {len(datos_num.columns)} columnas y el vector con {len(vect_max_min)} entradas\")\n",
    "    for i in range(len(vect_max_min)):\n",
    "        if vect_max_min[i]==1:\n",
    "            datos_num.iloc[:,i]=(datos_num.iloc[:,i]-datos_num.iloc[:,i].min())/(datos_num.iloc[:,i].max()-datos_num.iloc[:,i].min())\n",
    "        else: \n",
    "            datos_num.iloc[:,i]=(datos_num.iloc[:,i].max()-datos_num.iloc[:,i])/(datos_num.iloc[:,i].max()-datos_num.iloc[:,i].min())\n",
    "    datos[datos_num.columns]=datos_num #Asignación sobre el mismo objeto DataFrame\n",
    "\n",
    "def calc_ponder(matr:np.array,tol:float,categorica=False):\n",
    "    \"\"\"Recibe:\n",
    "    matr: matriz nxn de comparación AHP dos a dos recíproca.\n",
    "    tol: tolerancia de variación entre vectores suma normalizados.\n",
    "    Retorna:\n",
    "    vect_pond: vector ponderación. Eleva error si no se cumple consistencia\"\"\"\n",
    "    n,_=matr.shape\n",
    "    epsilon=np.array([tol+1])\n",
    "    i=2\n",
    "    prev_v_norm=matr.sum(axis=1)/matr.sum()\n",
    "    while (epsilon>=tol).any():\n",
    "        if i>6:\n",
    "            raise Exception(\"Matriz no consistente por iteraciones\")\n",
    "        A_n=np.linalg.matrix_power(matr,i)#Eleva error si no es cuadrada\n",
    "        v_norm=A_n.sum(axis=1)/A_n.sum() #vector de suma de filas normalizado\n",
    "        epsilon=max(v_norm-prev_v_norm)\n",
    "        prev_v_norm=v_norm\n",
    "    #print(\"\\n v_norm\", v_norm)\n",
    "    if not categorica:\n",
    "        #Verificación consistencia\n",
    "        v1=np.matmul(matr,v_norm)\n",
    "        v1_perc=np.divide(v1,v_norm)\n",
    "        #print(\"\\n v1,v1_perc\\n\",v1,v1_perc)\n",
    "        lambda_max=np.mean(v1_perc)\n",
    "        #print(lambda_max)\n",
    "        indice_RI={1:0,3:0.58,4:0.89,5:1.11,6:1.24,7:1.32,8:1.4,9:1.5,10:1.49}\n",
    "        RI=indice_RI[n]\n",
    "        CI=(lambda_max-n)/(n-1)\n",
    "        CR=CI/RI\n",
    "        if CR>0.1:\n",
    "            raise Exception(\"Matriz no consistente por prueba\")\n",
    "    return v_norm\n",
    "\n",
    "def categ_AHP(tabla_AHP_cat:pd.DataFrame)->dict:\n",
    "    \"\"\"Recibe:\n",
    "    tabla_AHP_cat: tabla comparativa sobre los posibles valores de una variable (criterio) categórica\n",
    "    Retorna:\n",
    "    Diccionario con valores:ponderaciónAHP\"\"\"\n",
    "    \n",
    "    valores=list(tabla_AHP_cat.iloc[:,0])\n",
    "    matriz=tabla_AHP_cat[valores].values\n",
    "    vect_pond=calc_ponder(matriz,0.05,categorica=True)\n",
    "    dicc_valor_ponderacion=dict(zip(valores,vect_pond))\n",
    "    return dicc_valor_ponderacion\n",
    "\n",
    "    \n",
    "def AHP(datos,tabla_AHP,vect_max_min,n_result,*tablas_AHP_cat):\n",
    "    \"\"\"Recibe:\n",
    "    datos: base de datos de alternativas\n",
    "    tabla_AHP: matriz recíproca sobre cada criterio.\n",
    "    vect_max_min: vector con tantas entradas como variables numéricas y especificando con orden respectivo\n",
    "    a la base de datos: 0 si es minimización, 1 si es maximización\n",
    "    n_result: número deseado de mejores alternativas.\n",
    "    tablas_AHP_cat: tablas AHP para variables categóricas\"\"\"\n",
    "    prepos_data(datos,vect_max_min) #Altera el objeto datos\n",
    "    valores_vab=list(tabla_AHP.iloc[:,0])\n",
    "    \n",
    "    matriz_AHP=tabla_AHP[valores_vab].values\n",
    "    v_ponderac_criter=calc_ponder(matriz_AHP,0.05)\n",
    "    \n",
    "    for tabla_cat in tablas_AHP_cat:\n",
    "        criterio=tabla_cat.columns[0]#La tabla debe tener como primer elemento \n",
    "        #del encabezado el nombre del criterio corespondiente y como primera columna, los valores que puede tomar\n",
    "        dicc_valorac=categ_AHP(tabla_cat)\n",
    "        datos[criterio]=datos[criterio].replace(dicc_valorac)\n",
    "    #print(\"sum v_pond\",np.sum(v_ponderac_criter))\n",
    "    rank=np.matmul(datos[valores_vab].values,v_ponderac_criter)\n",
    "    \n",
    "    #print(\"rangos\",rank)\n",
    "    indices=np.argsort(rank)[:n_result]#rank.max()==rank\n",
    "    return datos.iloc[indices,0]\n",
    "    \n",
    "\n",
    "\n",
    "# def naive(datos:pd.DataFrame,vect_max_min_total,dicc):\n",
    "#     \"\"\"\n",
    "#     vect_max_min: vector de 0 y 1 pero tantos como variables haya (categs y numéricas)\n",
    "#     Sólo una vab categórica\"\"\"\n",
    "#     datos_num=datos.select_dtypes(include=\"number\")\n",
    "#     categ_cols=set(datos.columns)-set(datos_num.columns)-{datos.columns[0]}\n",
    "#     #for i in categ_cols:\n",
    "#     print(categ_cols)\n",
    "#     prepos_data(datos)\n",
    "\n"
   ]
  },
  {
   "cell_type": "code",
   "execution_count": 3,
   "metadata": {},
   "outputs": [
    {
     "data": {
      "text/plain": [
       "3187                            Exorcist II: The Heretic\n",
       "1948                                              Carlos\n",
       "3003                                              Jaws 3\n",
       "3175                                          FearDotCom\n",
       "3061                  Halloween III: Season of the Witch\n",
       "3092                                            C.H.U.D.\n",
       "3173                                     Poltergeist III\n",
       "3013                                   House of the Dead\n",
       "3168    Friday the 13th Part VIII: Jason Takes Manhattan\n",
       "2960                            The Pit and the Pendulum\n",
       "Name: Nombre, dtype: object"
      ]
     },
     "execution_count": 3,
     "metadata": {},
     "output_type": "execute_result"
    }
   ],
   "source": [
    "#naive\n",
    "#Creo diccionario con pesos\n",
    "dicc_naive={\"Drama\":5,\"Comedy\":8,\"Action\":5,\"Adventure\":6,\"Horror\":1,\"Crime\":2,\"Thriller\":6,\"Fantasy\":4,\"Animation\":3,\"Science Fiction\":6,\"Romance\":3,\"Familiy\":2,\"Mystery\":3,\"Music\":3,\"War\":4,\"Western\":6}\n",
    "suma_pesos=np.sum([i for i in dicc_naive.values()])\n",
    "#Pesos normalizados\n",
    "dicc_naive={key:value/suma_pesos for key,value in dicc_naive.items()}\n",
    "#Matriz que usaremos para el proceso naive\n",
    "datos_naive=pd.DataFrame.copy(datos)\n",
    "datos_naive[\"Género\"]=datos_naive[\"Género\"].replace(dicc_naive)#.astype(float)\n",
    "datos_naive[\"Género\"].value_counts()\n",
    "#Vector de min_max debe incluir todas las variables\n",
    "prepos_data(datos_naive,[1,1,1,0,1,1,1,1])\n",
    "valores_vab=list(datos_naive.columns[1:])\n",
    "matriz_datos=datos_naive[valores_vab].values\n",
    "vect_pond_naive=np.array([4,3,5,7,7,6,6,4])\n",
    "ranking=np.matmul(matriz_datos,vect_pond_naive)\n",
    "indices=np.argsort(ranking)[:10]#rank.max()==rank\n",
    "datos.iloc[indices,0]\n"
   ]
  },
  {
   "cell_type": "code",
   "execution_count": 4,
   "metadata": {},
   "outputs": [
    {
     "data": {
      "text/plain": [
       "['FearDotCom',\n",
       " 'Ghoulies',\n",
       " 'House of the Dead',\n",
       " 'Exorcist II: The Heretic',\n",
       " 'Jaws 3',\n",
       " 'C.H.U.D.',\n",
       " 'From Justin to Kelly',\n",
       " 'The Next Best Thing',\n",
       " 'Poltergeist III',\n",
       " 'Texas Chainsaw Massacre: The Next Generation']"
      ]
     },
     "execution_count": 4,
     "metadata": {},
     "output_type": "execute_result"
    }
   ],
   "source": [
    "resultado=list(AHP(datos,tabla_AHP,[1,1,1,0,1,1,1],10,tabla_AHP_gen))\n",
    "resultado"
   ]
  }
 ],
 "metadata": {
  "kernelspec": {
   "display_name": "base",
   "language": "python",
   "name": "python3"
  },
  "language_info": {
   "codemirror_mode": {
    "name": "ipython",
    "version": 3
   },
   "file_extension": ".py",
   "mimetype": "text/x-python",
   "name": "python",
   "nbconvert_exporter": "python",
   "pygments_lexer": "ipython3",
   "version": "3.10.9"
  },
  "orig_nbformat": 4
 },
 "nbformat": 4,
 "nbformat_minor": 2
}

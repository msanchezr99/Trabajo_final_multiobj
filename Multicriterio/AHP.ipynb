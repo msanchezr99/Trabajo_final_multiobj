{
 "cells": [
  {
   "attachments": {},
   "cell_type": "markdown",
   "metadata": {},
   "source": [
    "# Multicriterio\n"
   ]
  },
  {
   "cell_type": "code",
   "execution_count": 2,
   "metadata": {},
   "outputs": [
    {
     "data": {
      "text/plain": [
       "dtype('float64')"
      ]
     },
     "execution_count": 2,
     "metadata": {},
     "output_type": "execute_result"
    }
   ],
   "source": [
    "import numpy as np\n",
    "import pandas as pd\n",
    "\n",
    "xls=pd.ExcelFile(r\"C:\\Users\\marti\\OneDrive\\Documentos\\personal\\Universidad\\Septimo_semestre\\Opti_multiobjective\\Multicriterio\\imdbmoviesdata.xlsx\")\n",
    "datos=pd.read_excel(xls,\"tmdb_movies_data\")\n",
    "tabla_AHP=pd.read_excel(xls,\"AHP\")\n",
    "tabla_AHP_gen=pd.read_excel(xls,\"AHP_genero\")\n",
    "tabla_AHP_time=pd.read_excel(xls,\"AHP_duracion\")\n",
    "\n",
    "\n",
    "#[65,90,120,180,340]\n"
   ]
  },
  {
   "cell_type": "code",
   "execution_count": 5,
   "metadata": {},
   "outputs": [
    {
     "data": {
      "text/plain": [
       "'Género'"
      ]
     },
     "execution_count": 5,
     "metadata": {},
     "output_type": "execute_result"
    }
   ],
   "source": [
    "#Implementación con más columnas categóricas\n",
    "cols=datos.columns\n",
    "num_cols=datos._get_numeric_data().columns\n",
    "categ_cols=list(set(cols)-{\"Nombre\"}-set(num_cols))\n",
    "tabla_AHP_gen.columns[0]"
   ]
  },
  {
   "cell_type": "code",
   "execution_count": 25,
   "metadata": {},
   "outputs": [
    {
     "name": "stdout",
     "output_type": "stream",
     "text": [
      "[0.81207271 2.54200011 0.51730351 0.25650538] [4.17975996 4.08699727 4.23287077 4.16881998]\n",
      "4.167111996093883\n",
      "0.055703998697961055\n",
      "0.06258876258197871\n"
     ]
    },
    {
     "data": {
      "text/plain": [
       "array([0.19428693, 0.62197255, 0.12221103, 0.06152949])"
      ]
     },
     "execution_count": 25,
     "metadata": {},
     "output_type": "execute_result"
    }
   ],
   "source": [
    "def calc_ponder(matr:np.array,tol:float):\n",
    "    \"\"\"Recibe:\n",
    "    matr: matriz nxn de comparación AHP dos a dos recíproca.\n",
    "    tol: tolerancia de variación entre vectores suma normalizados.\n",
    "    Retorna:\n",
    "    vect_pond: vector ponderación. Eleva error si no se cumple consistencia\"\"\"\n",
    "    n,_=matr.shape\n",
    "    epsilon=np.array([tol+1])\n",
    "    i=2\n",
    "    prev_v_norm=matr.sum(axis=1)/matr.sum()\n",
    "    while (epsilon>=tol).any():\n",
    "        if i>6:\n",
    "            raise Exception(\"Matriz no consistente por iteraciones\")\n",
    "        A_n=np.linalg.matrix_power(matr,i)#Eleva error si no es cuadrada\n",
    "        v_norm=A_n.sum(axis=1)/A_n.sum() #vector de suma de filas normalizado\n",
    "        epsilon=max(v_norm-prev_v_norm)\n",
    "        prev_v_norm=v_norm\n",
    "    #Verificación consistencia\n",
    "    v1=np.matmul(matr,v_norm)\n",
    "    v1_perc=np.divide(v1,v_norm)\n",
    "    print(v1,v1_perc)\n",
    "    lambda_max=np.mean(v1_perc)\n",
    "    print(lambda_max)\n",
    "    indice_RI={1:0,3:0.58,4:0.89,5:1.11,6:1.24,7:1.32,8:1.4,9:1.5,10:1.49}\n",
    "    RI=indice_RI[n]\n",
    "    CI=(lambda_max-n)/(n-1)\n",
    "    print(CI)\n",
    "    CR=CI/RI\n",
    "    print(CR)\n",
    "    if CR>0.1:\n",
    "        raise Exception(\"Matriz no consistente por prueba\")\n",
    "    return v_norm\n",
    "\n",
    "def categ_AHP(tabla_AHP:pd.DataFrame):\n",
    "    \"\"\"Recibe:\n",
    "    tabla_AHP: tabla comparativa sobre los posibles valores categóricos de la variable\n",
    "    Retorna:\n",
    "    Diccionario con valores:ponderaciónAHP\"\"\"\n",
    "    criterio=tabla_AHP.columns[0] #La tabla debe tener como primer elemento del encabezado el nombre del criterio corespondiente\n",
    "    \n",
    "    \n",
    "    \n",
    "def AHP(norm_data,vect_pond):\n",
    "    pass\n",
    "\n",
    "#datos[\"Género\"].unique()\n",
    "#matr=np.array([[1,3,5,3,5],[0.33,1,2,1,3],[0.2,0.5,1,1,2],[0.33,1,1,1,4],[0.2,0.33,0.5,0.25,1]])\n",
    "\n",
    "#matr=np.array([[1,3,0.25,5,6],[1/3,1,0.5,2,4],[4,2,1,6,9],[0.2,0.5,1/6,1,3],[1/6,0.25,1/9,1/3,1]])\n",
    "matr=np.array([[1,0.5,1,3],[2,1,8,9],[1,0.125,1,2],[1/3,1/9,1/2,1]])\n",
    "calc_ponder(matr,0.005)"
   ]
  },
  {
   "cell_type": "code",
   "execution_count": 4,
   "metadata": {},
   "outputs": [
    {
     "data": {
      "text/plain": [
       "array([ 2., 10.,  2.])"
      ]
     },
     "execution_count": 4,
     "metadata": {},
     "output_type": "execute_result"
    }
   ],
   "source": [
    "b=np.array([3,1,3])\n",
    "c=np.array([6,10,6])\n",
    "np.divide(c,b)"
   ]
  },
  {
   "cell_type": "code",
   "execution_count": 5,
   "metadata": {},
   "outputs": [
    {
     "data": {
      "text/html": [
       "<div>\n",
       "<style scoped>\n",
       "    .dataframe tbody tr th:only-of-type {\n",
       "        vertical-align: middle;\n",
       "    }\n",
       "\n",
       "    .dataframe tbody tr th {\n",
       "        vertical-align: top;\n",
       "    }\n",
       "\n",
       "    .dataframe thead th {\n",
       "        text-align: right;\n",
       "    }\n",
       "</style>\n",
       "<table border=\"1\" class=\"dataframe\">\n",
       "  <thead>\n",
       "    <tr style=\"text-align: right;\">\n",
       "      <th></th>\n",
       "      <th>Unnamed: 0</th>\n",
       "      <th>Action</th>\n",
       "      <th>Adventure</th>\n",
       "      <th>Animation</th>\n",
       "      <th>Comedy</th>\n",
       "      <th>Crime</th>\n",
       "      <th>Drama</th>\n",
       "      <th>Familiy</th>\n",
       "      <th>Fantasy</th>\n",
       "      <th>Horror</th>\n",
       "      <th>Music</th>\n",
       "      <th>Mystery</th>\n",
       "      <th>Romance</th>\n",
       "      <th>Science Fiction</th>\n",
       "      <th>Thriller</th>\n",
       "      <th>War</th>\n",
       "      <th>Western</th>\n",
       "    </tr>\n",
       "  </thead>\n",
       "  <tbody>\n",
       "    <tr>\n",
       "      <th>0</th>\n",
       "      <td>Action</td>\n",
       "      <td>1.000000</td>\n",
       "      <td>2.000000</td>\n",
       "      <td>1.500000</td>\n",
       "      <td>3.0</td>\n",
       "      <td>4.0</td>\n",
       "      <td>1.5</td>\n",
       "      <td>4.0</td>\n",
       "      <td>3.0</td>\n",
       "      <td>5.0</td>\n",
       "      <td>2.0</td>\n",
       "      <td>3.0</td>\n",
       "      <td>1.5</td>\n",
       "      <td>2.0</td>\n",
       "      <td>1.5</td>\n",
       "      <td>1.5</td>\n",
       "      <td>2.0</td>\n",
       "    </tr>\n",
       "    <tr>\n",
       "      <th>1</th>\n",
       "      <td>Adventure</td>\n",
       "      <td>0.500000</td>\n",
       "      <td>1.000000</td>\n",
       "      <td>0.900000</td>\n",
       "      <td>1.5</td>\n",
       "      <td>2.0</td>\n",
       "      <td>1.0</td>\n",
       "      <td>2.0</td>\n",
       "      <td>1.0</td>\n",
       "      <td>3.0</td>\n",
       "      <td>1.0</td>\n",
       "      <td>2.0</td>\n",
       "      <td>0.5</td>\n",
       "      <td>1.0</td>\n",
       "      <td>1.5</td>\n",
       "      <td>0.8</td>\n",
       "      <td>1.0</td>\n",
       "    </tr>\n",
       "    <tr>\n",
       "      <th>2</th>\n",
       "      <td>Animation</td>\n",
       "      <td>0.666667</td>\n",
       "      <td>1.111111</td>\n",
       "      <td>1.000000</td>\n",
       "      <td>2.0</td>\n",
       "      <td>3.0</td>\n",
       "      <td>1.0</td>\n",
       "      <td>3.0</td>\n",
       "      <td>2.0</td>\n",
       "      <td>4.0</td>\n",
       "      <td>1.5</td>\n",
       "      <td>2.0</td>\n",
       "      <td>1.0</td>\n",
       "      <td>1.5</td>\n",
       "      <td>1.0</td>\n",
       "      <td>1.0</td>\n",
       "      <td>1.5</td>\n",
       "    </tr>\n",
       "    <tr>\n",
       "      <th>3</th>\n",
       "      <td>Comedy</td>\n",
       "      <td>0.333333</td>\n",
       "      <td>0.666667</td>\n",
       "      <td>0.500000</td>\n",
       "      <td>1.0</td>\n",
       "      <td>2.0</td>\n",
       "      <td>0.5</td>\n",
       "      <td>3.0</td>\n",
       "      <td>1.0</td>\n",
       "      <td>3.0</td>\n",
       "      <td>0.5</td>\n",
       "      <td>1.0</td>\n",
       "      <td>0.5</td>\n",
       "      <td>0.8</td>\n",
       "      <td>0.5</td>\n",
       "      <td>0.5</td>\n",
       "      <td>0.8</td>\n",
       "    </tr>\n",
       "    <tr>\n",
       "      <th>4</th>\n",
       "      <td>Crime</td>\n",
       "      <td>0.250000</td>\n",
       "      <td>0.500000</td>\n",
       "      <td>0.333333</td>\n",
       "      <td>0.5</td>\n",
       "      <td>1.0</td>\n",
       "      <td>0.3</td>\n",
       "      <td>2.0</td>\n",
       "      <td>0.8</td>\n",
       "      <td>2.0</td>\n",
       "      <td>0.3</td>\n",
       "      <td>0.5</td>\n",
       "      <td>0.4</td>\n",
       "      <td>0.5</td>\n",
       "      <td>0.3</td>\n",
       "      <td>0.3</td>\n",
       "      <td>0.5</td>\n",
       "    </tr>\n",
       "  </tbody>\n",
       "</table>\n",
       "</div>"
      ],
      "text/plain": [
       "  Unnamed: 0    Action  Adventure  Animation  Comedy  Crime  Drama  Familiy  \\\n",
       "0     Action  1.000000   2.000000   1.500000     3.0    4.0    1.5      4.0   \n",
       "1  Adventure  0.500000   1.000000   0.900000     1.5    2.0    1.0      2.0   \n",
       "2  Animation  0.666667   1.111111   1.000000     2.0    3.0    1.0      3.0   \n",
       "3     Comedy  0.333333   0.666667   0.500000     1.0    2.0    0.5      3.0   \n",
       "4      Crime  0.250000   0.500000   0.333333     0.5    1.0    0.3      2.0   \n",
       "\n",
       "   Fantasy  Horror  Music  Mystery  Romance  Science Fiction  Thriller  War  \\\n",
       "0      3.0     5.0    2.0      3.0      1.5              2.0       1.5  1.5   \n",
       "1      1.0     3.0    1.0      2.0      0.5              1.0       1.5  0.8   \n",
       "2      2.0     4.0    1.5      2.0      1.0              1.5       1.0  1.0   \n",
       "3      1.0     3.0    0.5      1.0      0.5              0.8       0.5  0.5   \n",
       "4      0.8     2.0    0.3      0.5      0.4              0.5       0.3  0.3   \n",
       "\n",
       "   Western  \n",
       "0      2.0  \n",
       "1      1.0  \n",
       "2      1.5  \n",
       "3      0.8  \n",
       "4      0.5  "
      ]
     },
     "execution_count": 5,
     "metadata": {},
     "output_type": "execute_result"
    }
   ],
   "source": [
    "tabla_AHP_gen.head()"
   ]
  }
 ],
 "metadata": {
  "kernelspec": {
   "display_name": "base",
   "language": "python",
   "name": "python3"
  },
  "language_info": {
   "codemirror_mode": {
    "name": "ipython",
    "version": 3
   },
   "file_extension": ".py",
   "mimetype": "text/x-python",
   "name": "python",
   "nbconvert_exporter": "python",
   "pygments_lexer": "ipython3",
   "version": "3.10.9"
  },
  "orig_nbformat": 4
 },
 "nbformat": 4,
 "nbformat_minor": 2
}
